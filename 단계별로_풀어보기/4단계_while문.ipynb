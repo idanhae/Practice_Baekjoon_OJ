{
 "cells": [
  {
   "cell_type": "markdown",
   "metadata": {},
   "source": [
    "# 단계별 문제풀이"
   ]
  },
  {
   "cell_type": "markdown",
   "metadata": {},
   "source": [
    "### 4단계 while문"
   ]
  },
  {
   "cell_type": "code",
   "execution_count": 5,
   "metadata": {},
   "outputs": [
    {
     "name": "stdout",
     "output_type": "stream",
     "text": [
      "5 0\n",
      "5\n",
      "0 0\n"
     ]
    }
   ],
   "source": [
    "#10952\n",
    "while True: # 참으로 주면 while이 아래를 반복해서 돈다. 1로 줘도 같음\n",
    "    A, B = map(int,input().split())\n",
    "    if A==0 and B==0:\n",
    "        break\n",
    "    else:\n",
    "        print(A+B)\n",
    "# 0 0일때 print 안하고 멈춰야함!"
   ]
  },
  {
   "cell_type": "code",
   "execution_count": null,
   "metadata": {},
   "outputs": [],
   "source": [
    "#10951 - try~ except\n",
    "''' 문제가 없으면 try 아래를 돌고 예외가 발생하면 except 아래 실행\n",
    "except[발생 오류[as 오류 메시지 변수]]\n",
    "* [] 안은 생략이 가능하다는 관례적 표기법!'''\n",
    "# 횟수 지정 없이 무한히 돌아야 할 때 쓰면 좋은듯!\n",
    "\n",
    "import sys\n",
    "while True:\n",
    "    try:\n",
    "        A, B = map(int,sys.stdin.readline().split())\n",
    "        print(A+B)\n",
    "    except:\n",
    "        break"
   ]
  },
  {
   "cell_type": "code",
   "execution_count": 45,
   "metadata": {},
   "outputs": [
    {
     "name": "stdout",
     "output_type": "stream",
     "text": [
      "26\n",
      "4\n"
     ]
    }
   ],
   "source": [
    "#1110 주어진 수의 사이클 구하기\n",
    "a = int(input())\n",
    "A = a # 나중에 new를 할당하게 될 변수(쪼개고 붙여지는 대상, 처음에는 입력받은 수인 a니까 a를 할당)\n",
    "i = 0 # cycle count\n",
    "\n",
    "while 1:\n",
    "    sum = (A//10)+ (A%10) # 각 자릿수를 더한 수 # ex) 23/10 = 2.3, 23//10 = 2, 23%10 = 3\n",
    "    new = (A%10)*10 + (sum%10) # 새로 만들어지는 수\n",
    "    i+=1 \n",
    "    if new == a: # 입력 받은 초기값 a(a는 변하면 안됨)랑 비교 검사를 먼저해보고\n",
    "        break\n",
    "    A = new # 같지 않으면 A에 new를 할당해 쪼개고 붙여서 새로 sum이랑 new 만든다\n",
    "print(i) # 마지막 최종 cycle count만 쓸거니까 반복문 안에 넣으면 안됨"
   ]
  }
 ],
 "metadata": {
  "kernelspec": {
   "display_name": "Python 3",
   "language": "python",
   "name": "python3"
  },
  "language_info": {
   "codemirror_mode": {
    "name": "ipython",
    "version": 3
   },
   "file_extension": ".py",
   "mimetype": "text/x-python",
   "name": "python",
   "nbconvert_exporter": "python",
   "pygments_lexer": "ipython3",
   "version": "3.7.4"
  }
 },
 "nbformat": 4,
 "nbformat_minor": 2
}
