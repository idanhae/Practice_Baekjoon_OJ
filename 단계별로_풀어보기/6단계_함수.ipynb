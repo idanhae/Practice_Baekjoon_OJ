{
 "cells": [
  {
   "cell_type": "markdown",
   "metadata": {},
   "source": [
    "# 단계별 문제풀이"
   ]
  },
  {
   "cell_type": "markdown",
   "metadata": {},
   "source": [
    "### 6단계 함수"
   ]
  },
  {
   "cell_type": "code",
   "execution_count": 1,
   "metadata": {},
   "outputs": [],
   "source": [
    "#15596\n",
    "def solve(a):\n",
    "    return sum(a) # 이렇게만 해도 됨\n",
    "\n",
    "def solve(a:list) -> int: # :list -> int => 리스트 자료형을 정수로 출력한다(꼭 포함되지 않아도 잘 작동하는 듯)\n",
    "    return sum(a)"
   ]
  },
  {
   "cell_type": "code",
   "execution_count": 52,
   "metadata": {},
   "outputs": [
    {
     "name": "stdout",
     "output_type": "stream",
     "text": [
      "1\n",
      "3\n",
      "5\n",
      "7\n",
      "9\n",
      "20\n",
      "31\n",
      "42\n",
      "53\n",
      "64\n",
      "75\n",
      "86\n",
      "97\n"
     ]
    }
   ],
   "source": [
    "#4673 self number 함수 생성 ver. (꼭 함수를 정의하지 않고도 풀 수 있음)\n",
    "def self_number(end_point):\n",
    "    d_list = []\n",
    "    self_num = []\n",
    "    for i in range(1,end_point):\n",
    "        sum_list = []\n",
    "        sum_list.append(i)\n",
    "        for j in range(len(str(i))):\n",
    "            sum_list.append(int(str(i)[j]))\n",
    "        d_list.append(sum(sum_list))\n",
    "        if i not in d_list:\n",
    "            self_num.append(i)\n",
    "    for g in range(len(self_num)):\n",
    "        print(self_num[g])\n",
    "\n",
    "self_number(100) # 이거까지 써야함(제출할때는 10001 넣어서)"
   ]
  },
  {
   "cell_type": "code",
   "execution_count": 54,
   "metadata": {},
   "outputs": [
    {
     "name": "stdout",
     "output_type": "stream",
     "text": [
      "1\n",
      "3\n",
      "5\n",
      "7\n",
      "9\n",
      "20\n",
      "31\n",
      "42\n",
      "53\n",
      "64\n",
      "75\n",
      "86\n",
      "97\n"
     ]
    }
   ],
   "source": [
    "#4673 self_number 함수 ver.2 - 생성자 수열 한번에 생성하기\n",
    "def self_number(end_point):\n",
    "    d_list = []\n",
    "    self_num = []\n",
    "    for i in range(1,end_point):\n",
    "        for j in str(i):\n",
    "            i+=int(j) # i = i+int(j) -> 이거 사칙연산 기호 다됨!\n",
    "        d_list.append(i)\n",
    "    for h in range(1,end_point):\n",
    "        if h not in d_list:\n",
    "            self_num.append(h)\n",
    "    for g in range(len(self_num)):\n",
    "        print(self_num[g])\n",
    "        \n",
    "self_number(100)"
   ]
  },
  {
   "cell_type": "code",
   "execution_count": null,
   "metadata": {},
   "outputs": [],
   "source": []
  }
 ],
 "metadata": {
  "kernelspec": {
   "display_name": "Python 3",
   "language": "python",
   "name": "python3"
  },
  "language_info": {
   "codemirror_mode": {
    "name": "ipython",
    "version": 3
   },
   "file_extension": ".py",
   "mimetype": "text/x-python",
   "name": "python",
   "nbconvert_exporter": "python",
   "pygments_lexer": "ipython3",
   "version": "3.7.4"
  }
 },
 "nbformat": 4,
 "nbformat_minor": 2
}
