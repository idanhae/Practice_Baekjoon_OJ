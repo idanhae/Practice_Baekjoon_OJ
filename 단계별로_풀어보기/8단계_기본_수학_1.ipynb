{
 "cells": [
  {
   "cell_type": "markdown",
   "metadata": {},
   "source": [
    "# 단계별 문제풀이"
   ]
  },
  {
   "cell_type": "markdown",
   "metadata": {},
   "source": [
    "### 8단계 기본 수학 1"
   ]
  },
  {
   "cell_type": "code",
   "execution_count": null,
   "metadata": {},
   "outputs": [],
   "source": [
    "#1712 손익분기점 -> 진짜 말그대로 수학 방정식 계산임!!\n",
    "import sys\n",
    "A,B,C = map(int, sys.stdin.readline().split())\n",
    "\n",
    "if C <= B:\n",
    "    print(-1)\n",
    "else:\n",
    "    print(A//(C-B)+1) # 방정식 정리해서 판매대수 구하기\n",
    "# // -> 판매대수는 자연수여야함! (몫의 정수부분만 출력! 안그러면 소수가 나올수도 있으니까)\n",
    "# +1 -> ex) A/(C-B)=2.5이면 A//(C-B)=2이지만, 이득을 보려면 3대를 팔아야하니까"
   ]
  },
  {
   "cell_type": "code",
   "execution_count": 7,
   "metadata": {},
   "outputs": [
    {
     "name": "stdout",
     "output_type": "stream",
     "text": [
      "9\n",
      "3/2\n"
     ]
    }
   ],
   "source": [
    "#1193 분수찾기\n",
    "X = int(input())\n",
    "\n",
    "sum  = 0\n",
    "cnt = 0\n",
    "while sum < X:\n",
    "    cnt+=1\n",
    "    sum+=cnt\n",
    "    \n",
    "diff = sum - X\n",
    "\n",
    "u_list = []\n",
    "d_list = []\n",
    "for i in range(cnt):\n",
    "    u = cnt-i\n",
    "    d = i+1\n",
    "    u_list.append(u)\n",
    "    d_list.append(d)\n",
    "    \n",
    "if cnt % 2 == 0: # even num\n",
    "    print('{}/{}'.format(u_list[diff], d_list[diff]))\n",
    "else: # odd num\n",
    "    print('{}/{}'.format(u_list[-(diff+1)], d_list[-(diff+1)]))"
   ]
  },
  {
   "cell_type": "code",
   "execution_count": 16,
   "metadata": {},
   "outputs": [
    {
     "name": "stdout",
     "output_type": "stream",
     "text": [
      "11\n",
      "3\n"
     ]
    }
   ],
   "source": [
    "#2839 설탕배달\n",
    "N = int(input())\n",
    "\n",
    "sum = 0\n",
    "cnt = 0\n",
    "while sum < N:\n",
    "    cnt += 1\n",
    "    sum = 5*cnt\n",
    "    \n",
    "diff = N-(5*(cnt-1))\n",
    "\n",
    "if diff % 3 == 0:\n",
    "    print(int((cnt-1)+(diff/3))) # 5kg 봉지 수 + 3kg 봉지 수\n",
    "elif diff % 3 == 1:\n",
    "    if cnt-2 < 0:\n",
    "        print(-1)\n",
    "    else:\n",
    "        print(int((cnt-2)+((diff+5)/3)))\n",
    "else:\n",
    "    if cnt-3 < 0:\n",
    "        print(-1)\n",
    "    else:\n",
    "        print(int((cnt-3)+((diff+10)/3)))"
   ]
  },
  {
   "cell_type": "code",
   "execution_count": 17,
   "metadata": {},
   "outputs": [
    {
     "name": "stdout",
     "output_type": "stream",
     "text": [
      "1 5\n"
     ]
    }
   ],
   "source": [
    "sum = 0\n",
    "cnt = 0\n",
    "while sum < 4:\n",
    "    cnt += 1\n",
    "    sum = 5*cnt\n",
    "print(cnt, sum)"
   ]
  },
  {
   "cell_type": "code",
   "execution_count": null,
   "metadata": {},
   "outputs": [],
   "source": [
    "N = int(input())\n",
    "\n",
    "sum = 0\n",
    "cnt = 0\n",
    "while sum < N:\n",
    "    cnt += 1\n",
    "    sum = 5*cnt\n",
    "    \n",
    "diff = N-(5*(cnt-1))\n",
    "\n",
    "if diff == 0:\n",
    "    print(cnt-1)\n",
    "if diff == 1:\n",
    "    if cnt-2<0:\n",
    "        print(-1)\n",
    "    else:\n",
    "        print(cnt)\n",
    "if diff == 2:\n",
    "    if cnt-3<0:\n",
    "        print(-1)\n",
    "    else:\n",
    "        print(cnt+1)\n",
    "if diff == 3:\n",
    "    print(cnt)\n",
    "if diff == 4:\n",
    "    if N==4:\n",
    "        print(-1)\n",
    "    else:\n",
    "        print(cnt+1)"
   ]
  }
 ],
 "metadata": {
  "kernelspec": {
   "display_name": "Python 3",
   "language": "python",
   "name": "python3"
  },
  "language_info": {
   "codemirror_mode": {
    "name": "ipython",
    "version": 3
   },
   "file_extension": ".py",
   "mimetype": "text/x-python",
   "name": "python",
   "nbconvert_exporter": "python",
   "pygments_lexer": "ipython3",
   "version": "3.7.4"
  }
 },
 "nbformat": 4,
 "nbformat_minor": 2
}
