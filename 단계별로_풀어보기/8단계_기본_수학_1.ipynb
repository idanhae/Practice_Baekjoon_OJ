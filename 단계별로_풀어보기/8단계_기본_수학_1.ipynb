{
 "cells": [
  {
   "cell_type": "markdown",
   "metadata": {},
   "source": [
    "# 단계별 문제풀이"
   ]
  },
  {
   "cell_type": "markdown",
   "metadata": {},
   "source": [
    "### 8단계 기본 수학 1"
   ]
  },
  {
   "cell_type": "code",
   "execution_count": null,
   "metadata": {},
   "outputs": [],
   "source": [
    "#1712 손익분기점 -> 진짜 말그대로 수학 방정식 계산임!!\n",
    "import sys\n",
    "A,B,C = map(int, sys.stdin.readline().split())\n",
    "\n",
    "if C <= B:\n",
    "    print(-1)\n",
    "else:\n",
    "    print(A//(C-B)+1)\n",
    "# // -> 판매대수는 자연수여야함! (몫의 정수부분만 출력! 안그러면 소수가 나올수도 있으니까)\n",
    "# +1 -> ex) A/(C-B)=2.5이면 A//(C-B)=2이지만, 이득을 보려면 3대를 팔아야하니까"
   ]
  },
  {
   "cell_type": "code",
   "execution_count": null,
   "metadata": {},
   "outputs": [],
   "source": []
  }
 ],
 "metadata": {
  "kernelspec": {
   "display_name": "Python 3",
   "language": "python",
   "name": "python3"
  },
  "language_info": {
   "codemirror_mode": {
    "name": "ipython",
    "version": 3
   },
   "file_extension": ".py",
   "mimetype": "text/x-python",
   "name": "python",
   "nbconvert_exporter": "python",
   "pygments_lexer": "ipython3",
   "version": "3.7.4"
  }
 },
 "nbformat": 4,
 "nbformat_minor": 2
}
