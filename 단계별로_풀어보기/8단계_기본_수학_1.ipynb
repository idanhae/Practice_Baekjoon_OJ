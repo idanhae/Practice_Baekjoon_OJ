{
 "cells": [
  {
   "cell_type": "markdown",
   "metadata": {},
   "source": [
    "# 단계별 문제풀이"
   ]
  },
  {
   "cell_type": "markdown",
   "metadata": {},
   "source": [
    "### 8단계 기본 수학 1"
   ]
  },
  {
   "cell_type": "code",
   "execution_count": null,
   "metadata": {},
   "outputs": [],
   "source": [
    "#1712 손익분기점 -> 진짜 말그대로 수학 방정식 계산임!!\n",
    "import sys\n",
    "A,B,C = map(int, sys.stdin.readline().split())\n",
    "\n",
    "if C <= B:\n",
    "    print(-1)\n",
    "else:\n",
    "    print(A//(C-B)+1) # 방정식 정리해서 판매대수 구하기\n",
    "# // -> 판매대수는 자연수여야함! (몫의 정수부분만 출력! 안그러면 소수가 나올수도 있으니까)\n",
    "# +1 -> ex) A/(C-B)=2.5이면 A//(C-B)=2이지만, 이득을 보려면 3대를 팔아야하니까"
   ]
  },
  {
   "cell_type": "code",
   "execution_count": 7,
   "metadata": {},
   "outputs": [
    {
     "name": "stdout",
     "output_type": "stream",
     "text": [
      "9\n",
      "3/2\n"
     ]
    }
   ],
   "source": [
    "#1193 분수찾기\n",
    "X = int(input())\n",
    "\n",
    "sum  = 0\n",
    "cnt = 0\n",
    "while sum < X:\n",
    "    cnt+=1\n",
    "    sum+=cnt\n",
    "    \n",
    "diff = sum - X\n",
    "\n",
    "u_list = []\n",
    "d_list = []\n",
    "for i in range(cnt):\n",
    "    u = cnt-i\n",
    "    d = i+1\n",
    "    u_list.append(u)\n",
    "    d_list.append(d)\n",
    "    \n",
    "if cnt % 2 == 0: # even num\n",
    "    print('{}/{}'.format(u_list[diff], d_list[diff]))\n",
    "else: # odd num\n",
    "    print('{}/{}'.format(u_list[-(diff+1)], d_list[-(diff+1)]))"
   ]
  },
   {
   "cell_type": "code",
   "execution_count": null,
   "metadata": {},
   "outputs": [],
   "source": [
    "#2869\n",
    "import math\n",
    "A,B,V = map(int,input().split())\n",
    "\n",
    "D = A-B\n",
    "print(math.ceil((V-A)/D)+1)"
   ]
  },
   {
   "cell_type": "code",
   "execution_count": null,
   "metadata": {},
   "outputs": [],
   "source": [
    "#10250 ACM 호텔\n",
    "import sys\n",
    "T = int(input())\n",
    "for i in range(T):\n",
    "    H,W,N = map(int,sys.stdin.readline().split())\n",
    "    if N%H == 0: # 손님 수가 층수의 배수일때 주의\n",
    "        floor = H\n",
    "        room = N // H\n",
    "    else:\n",
    "        floor = N%H\n",
    "        room = N // H+1\n",
    "    print(floor*100+room) # 따로 복잡하게 형식 지정할 필요없이 이렇게 하면 간단하게 호텔방 호수 형식으로 나타낼 수 있음",
   ]
  },
  {
   "cell_type": "code",
   "execution_count": 8,
   "metadata": {},
   "outputs": [
    {
     "name": "stdout",
     "output_type": "stream",
     "text": [
      "5\n",
      "1\n"
     ]
    }
   ],
   "source": [
    "#2839 설탕배달\n",
    "N = int(input())\n",
    "\n",
    "sum = 0\n",
    "cnt = 0\n",
    "while sum <= N:\n",
    "    cnt += 1\n",
    "    sum = 5*cnt\n",
    "    \n",
    "diff = N-(5*(cnt-1)) # diff -> 결국 5로 나눈 나머지랑 경우의 수 같음(0~4)\n",
    "\n",
    "if diff == 0:\n",
    "    print(cnt-1)\n",
    "elif diff == 1:\n",
    "    if cnt-2<0:\n",
    "        print(-1)\n",
    "    else:\n",
    "        print(cnt)\n",
    "elif diff == 2:\n",
    "    if cnt-3<0:\n",
    "        print(-1)\n",
    "    else:\n",
    "        print(cnt+1)\n",
    "elif diff == 3:\n",
    "    print(cnt)\n",
    "elif diff == 4:\n",
    "    if N==4:\n",
    "        print(-1)\n",
    "    else:\n",
    "        print(cnt+1)     "
   ]
  },
  {
   "cell_type": "code",
   "execution_count": 14,
   "metadata": {},
   "outputs": [
    {
     "name": "stdout",
     "output_type": "stream",
     "text": [
      "4\n",
      "-1\n"
     ]
    }
   ],
   "source": [
    "#2839 설탕배달\n",
    "N = int(input())\n",
    "\n",
    "quotient = N // 5 # 몫\n",
    "remainder = N % 5 # 나머지\n",
    "\n",
    "if remainder == 0:\n",
    "    print(quotient)\n",
    "elif remainder == 1:\n",
    "    print(quotient+1)\n",
    "elif remainder == 2:\n",
    "    if quotient-2<0:\n",
    "        print(-1)\n",
    "    else:\n",
    "        print(quotient+2)\n",
    "elif remainder == 3:\n",
    "    print(quotient+1)\n",
    "else:\n",
    "    if quotient == 0:\n",
    "        print(-1)\n",
    "    else:\n",
    "        print(quotient+2)"
   ]
  },
  {
   "cell_type": "code",
   "execution_count": 15,
   "metadata": {},
   "outputs": [
    {
     "name": "stdout",
     "output_type": "stream",
     "text": [
      "4\n",
      "-1\n"
     ]
    }
   ],
   "source": [
    "#2839 설탕배달 while - else!!!\n",
    "N = int(input())\n",
    "\n",
    "quo = N//5 \n",
    "rem = N%5\n",
    "cnt = 0 # 3kg짜리 묶음 수\n",
    "\n",
    "while quo >= 0: # N을 5로 나눈 몫에서부터 하나씩 줄여갈거니까 몫이 0이상인 동안만!\n",
    "    if rem % 3 == 0: # 이러면 보따리를 풀 필요가 없음\n",
    "        cnt = rem // 3\n",
    "        print (quo + cnt)\n",
    "        break\n",
    "    quo -= 1\n",
    "    rem += 5 # quo 한 보따리를 풀면 나머지에 5kg가 더해짐\n",
    "# 그래서 나머지가 3의 배수가 될 때까지 반복해서 돌고\n",
    "else: # 해결이 안되는 경우면 -1\n",
    "    print(-1)"
   ]
  },
    {
   "cell_type": "code",
   "execution_count": null,
   "metadata": {},
   "outputs": [],
   "source": [
    "#10757 큰 수 A+B -> 자릿수가 많은 숫자의 연산은 어떻게 처리해야 할까\n",
    "A,B = map(int,input().split())\n",
    "print(A+B)\n",
    "# 파이썬은 비교적 자유롭지만 만약 다른 언어(C++ 등)라면?"  
   ]
  },
  {
   "cell_type": "code",
   "execution_count": null,
   "metadata": {},
   "outputs": [],
   "source": []
  }
 ],
 "metadata": {
  "kernelspec": {
   "display_name": "Python 3",
   "language": "python",
   "name": "python3"
  },
  "language_info": {
   "codemirror_mode": {
    "name": "ipython",
    "version": 3
   },
   "file_extension": ".py",
   "mimetype": "text/x-python",
   "name": "python",
   "nbconvert_exporter": "python",
   "pygments_lexer": "ipython3",
   "version": "3.7.4"
  }
 },
 "nbformat": 4,
 "nbformat_minor": 2
}
