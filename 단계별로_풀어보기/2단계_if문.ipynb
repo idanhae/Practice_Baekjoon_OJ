{
 "cells": [
  {
   "cell_type": "markdown",
   "metadata": {},
   "source": [
    "# 단계별 문제풀이"
   ]
  },
  {
   "cell_type": "markdown",
   "metadata": {},
   "source": [
    "## 2단계 if문"
   ]
  },
  {
   "cell_type": "code",
   "execution_count": null,
   "metadata": {},
   "outputs": [],
   "source": [
    "#1330\n",
    "A,B = input().split(' ')\n",
    "a = int(A)\n",
    "b = int(B)\n",
    "if a<b:\n",
    "    print('<')\n",
    "elif a>b:\n",
    "    print('>')\n",
    "else:\n",
    "    print('==')"
   ]
  },
  {
   "cell_type": "code",
   "execution_count": null,
   "metadata": {},
   "outputs": [],
   "source": [
    "#9498\n",
    "A = int(input())\n",
    "if A>=90:\n",
    "    print('A')\n",
    "elif 80<=A<90:\n",
    "    print('B')\n",
    "elif 70<=A<80:\n",
    "    print('C')\n",
    "elif 60<=A<70:\n",
    "    print('D')\n",
    "else:\n",
    "    print('F')"
   ]
  },
  {
   "cell_type": "code",
   "execution_count": null,
   "metadata": {},
   "outputs": [],
   "source": [
    "#2753 와 이거 좀 잘한거같다!!\n",
    "'''연도가 주어졌을 때, 윤년이면 1, 아니면 0을 출력하는 프로그램을 작성하시오.\n",
    "\n",
    "윤년은 연도가 4의 배수이면서, 100의 배수가 아닐 때 또는 400의 배수일 때이다.\n",
    "\n",
    "예를 들어, 2012년은 4의 배수이면서 100의 배수가 아니라서 윤년이다. 1900년은 100의 배수이고 400의 배수는 아니기 때문에 윤년이 아니다. 하지만, 2000년은 400의 배수이기 때문에 윤년이다.'''\n",
    "\n",
    "A = int(input())\n",
    "if A%400==0:\n",
    "    print(1)\n",
    "elif A%100!=0:\n",
    "    if A%4==0:\n",
    "        print(1)\n",
    "    else:\n",
    "        print(0)\n",
    "else:\n",
    "    print(0)\n",
    "        "
   ]
  },
  {
   "cell_type": "code",
   "execution_count": null,
   "metadata": {},
   "outputs": [],
   "source": [
    "#14681 #그냥 X<0 and Y<0 이런식으로 했어도 됨ㅋㅋ\n",
    "x = int(input())\n",
    "y = int(input())\n",
    "if x>0:\n",
    "    if y>0:\n",
    "        print(1)\n",
    "    else:\n",
    "        print(4)\n",
    "else:\n",
    "    if y>0:\n",
    "        print(2)\n",
    "    else:\n",
    "        print(3)"
   ]
  },
  {
   "cell_type": "code",
   "execution_count": 30,
   "metadata": {},
   "outputs": [
    {
     "name": "stdout",
     "output_type": "stream",
     "text": [
      "23 40\n",
      "22 55\n"
     ]
    }
   ],
   "source": [
    "#2884 알람시계\n",
    "H,M = input().split(' ')\n",
    "h = int(H)\n",
    "m = int(M)\n",
    "if m>=45:\n",
    "    print(h,m-45)\n",
    "else:\n",
    "    if h>0:\n",
    "        print(h-1,m+15)\n",
    "    else:\n",
    "        print(23,m+15)"
   ]
  },
  {
   "cell_type": "code",
   "execution_count": null,
   "metadata": {},
   "outputs": [],
   "source": [
    "#2525 오븐시계\n",
    "H, M = map(int,input().split())\n",
    "D = int(input())\n",
    "\n",
    "A = (D+M)//60 # 분단위 합으로 추가되는 시간단위 ex) 120분->2시간\n",
    "\n",
    "if D+M >= 60:\n",
    "    if H+A >= 24:\n",
    "        print(str(H+A-24)+' '+str(D+M-60*A))\n",
    "    else:\n",
    "        print(str(H+A)+' '+str(D+M-60*A))\n",
    "else:\n",
    "    print(str(H)+' '+str(D+M))"
   ]
  },
  {
   "cell_type": "code",
   "execution_count": null,
   "metadata": {},
   "outputs": [],
   "source": [
    "#2480 주사위 세개\n",
    "a, b, c = map(int,input().split())\n",
    "\n",
    "if a==b==c:\n",
    "    print(10000+1000*a)\n",
    "elif len({a,b,c})==2:\n",
    "    A = [a,b,c]\n",
    "    count = [A.count(i) for i in A]\n",
    "    idx = count.index(max(count))\n",
    "    print(1000+A[idx]*100)\n",
    "else:\n",
    "    print(max(a,b,c)*100)"
   ]
  }
 ],
 "metadata": {
  "kernelspec": {
   "display_name": "Python 3",
   "language": "python",
   "name": "python3"
  },
  "language_info": {
   "codemirror_mode": {
    "name": "ipython",
    "version": 3
   },
   "file_extension": ".py",
   "mimetype": "text/x-python",
   "name": "python",
   "nbconvert_exporter": "python",
   "pygments_lexer": "ipython3",
   "version": "3.7.4"
  }
 },
 "nbformat": 4,
 "nbformat_minor": 2
}
