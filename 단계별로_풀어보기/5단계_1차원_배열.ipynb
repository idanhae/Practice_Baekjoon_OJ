{
 "cells": [
  {
   "cell_type": "markdown",
   "metadata": {},
   "source": [
    "# 단계별 문제풀이"
   ]
  },
  {
   "cell_type": "markdown",
   "metadata": {},
   "source": [
    "### 5단계 1차원 배열"
   ]
  },
  {
   "cell_type": "code",
   "execution_count": 10,
   "metadata": {},
   "outputs": [
    {
     "name": "stdout",
     "output_type": "stream",
     "text": [
      "5\n",
      "20 10 35 30 7\n",
      "7 35\n"
     ]
    }
   ],
   "source": [
    "#10818\n",
    "N = int(input())\n",
    "array = input().split()\n",
    "num_list = []\n",
    "\n",
    "for i in range(N):\n",
    "    num = int(array[i])\n",
    "    num_list.append(num)\n",
    "    \n",
    "print(min(num_list),max(num_list))"
   ]
  },
  {
   "cell_type": "code",
   "execution_count": 19,
   "metadata": {},
   "outputs": [
    {
     "name": "stdout",
     "output_type": "stream",
     "text": [
      "3\n",
      "29\n",
      "38\n",
      "12\n",
      "57\n",
      "74\n",
      "40\n",
      "85\n",
      "61\n",
      "85\n",
      "8\n"
     ]
    }
   ],
   "source": [
    "#2562 정답 인정 ver.\n",
    "import sys\n",
    "num_list = []\n",
    "\n",
    "for i in range(9):\n",
    "    a = int(sys.stdin.readline())\n",
    "    num_list.append(a)\n",
    "    \n",
    "print(max(num_list))\n",
    "for i in range(9):\n",
    "    if num_list[i] == max(num_list):\n",
    "        print(i+1)"
   ]
  },
  {
   "cell_type": "code",
   "execution_count": 12,
   "metadata": {},
   "outputs": [
    {
     "name": "stdout",
     "output_type": "stream",
     "text": [
      "3\n",
      "29\n",
      "38\n",
      "12\n",
      "57\n",
      "74\n",
      "40\n",
      "85\n",
      "61\n",
      "85\n",
      "8\n"
     ]
    }
   ],
   "source": [
    "#2562 리스트 method 사용! - list.index\n",
    "import sys\n",
    "num_list = []\n",
    "\n",
    "for i in range(9):\n",
    "    a = int(sys.stdin.readline())\n",
    "    num_list.append(a)\n",
    "    \n",
    "print(max(num_list))\n",
    "print(num_list.index(max(num_list))+1)"
   ]
  },
  {
   "cell_type": "code",
   "execution_count": 16,
   "metadata": {
    "scrolled": true
   },
   "outputs": [
    {
     "name": "stdout",
     "output_type": "stream",
     "text": [
      "3\n",
      "29\n",
      "38\n",
      "12\n",
      "57\n",
      "74\n",
      "40\n",
      "85\n",
      "61\n",
      "85\n",
      "8\n"
     ]
    }
   ],
   "source": [
    "#2562 numpy ver. -> 정답 인정은 X\n",
    "import sys\n",
    "import numpy as np\n",
    "\n",
    "num_list = []\n",
    "\n",
    "for i in range(9):\n",
    "    a = int(sys.stdin.readline())\n",
    "    num_list.append(a)\n",
    "    \n",
    "print(max(num_list))\n",
    "print(np.argmax(num_list,axis=-1)+1)"
   ]
  },
  {
   "cell_type": "code",
   "execution_count": 14,
   "metadata": {},
   "outputs": [
    {
     "name": "stdout",
     "output_type": "stream",
     "text": [
      "150\n",
      "266\n",
      "427\n",
      "3\n",
      "1\n",
      "0\n",
      "2\n",
      "0\n",
      "0\n",
      "0\n",
      "2\n",
      "0\n",
      "0\n"
     ]
    }
   ],
   "source": [
    "#2577 - list.count\n",
    "N1 = int(input())\n",
    "N2 = int(input())\n",
    "N3 = int(input())\n",
    "str_num = str(N1*N2*N3)\n",
    "\n",
    "num_list = []\n",
    "\n",
    "for i in str_num:\n",
    "    num_list.append(i)\n",
    "for j in range(10):\n",
    "    print(num_list.count(str(j)))"
   ]
  },
  {
   "cell_type": "code",
   "execution_count": 24,
   "metadata": {},
   "outputs": [
    {
     "name": "stdout",
     "output_type": "stream",
     "text": [
      "1\n",
      "2\n",
      "3\n",
      "4\n",
      "5\n",
      "6\n",
      "7\n",
      "8\n",
      "9\n",
      "10\n",
      "10\n"
     ]
    }
   ],
   "source": [
    "#3052\n",
    "import sys\n",
    "\n",
    "num_list = []\n",
    "for i in range(10):\n",
    "    num = int(sys.stdin.readline())\n",
    "    num_list.append(num%42)\n",
    "print(len(set(num_list))) # set(list)하면 list의 원소들을 원소로 가지는 set 생성됨"
   ]
  },
  {
   "cell_type": "code",
   "execution_count": null,
   "metadata": {},
   "outputs": [],
   "source": [
    "#1546\n",
    "N = int(input())\n",
    "scores = input().split()\n",
    "score_num = list(map(int,scores))\n",
    "M = max(score_num)\n",
    "new_list = []\n",
    "\n",
    "for i in range(N):\n",
    "    a = score_num[i]\n",
    "    new_list.append(a/M*100)\n",
    "\n",
    "print(sum(new_list)/N) # 리스트 평균 구하기: sum(list)/list 요소 수"
   ]
  },
  {
   "cell_type": "code",
   "execution_count": 6,
   "metadata": {},
   "outputs": [
    {
     "name": "stdout",
     "output_type": "stream",
     "text": [
      "5\n",
      "OOXXOXXOOO\n",
      "10\n",
      "OOXXOOXXOO\n",
      "9\n",
      "OXOXOXOXOXOXOX\n",
      "7\n",
      "OOOOOOOOOO\n",
      "55\n",
      "OOOOXOOOOXOOOOX\n",
      "30\n"
     ]
    }
   ],
   "source": [
    "#8958\n",
    "T = int(input())\n",
    "ox_list = []\n",
    "score_list = []\n",
    "\n",
    "for i in range(T):\n",
    "    ox = input()\n",
    "    ox_list.append(ox)\n",
    "    n = 0\n",
    "    list = []\n",
    "    for j in range(len(ox_list[i])):\n",
    "        if ox_list[i][j] == 'O':\n",
    "            if ox_list[i][j-1] == 'X':\n",
    "                n=0\n",
    "            n = n+1\n",
    "            list.append(n)\n",
    "    score_list.append(sum(list))\n",
    "    print(score_list[i])"
   ]
  },
  {
   "cell_type": "code",
   "execution_count": null,
   "metadata": {},
   "outputs": [],
   "source": [
    "#4344\n",
    "C = int(input())\n",
    "\n",
    "for i in range(C):\n",
    "    score_num = list(map(int,input().split()))\n",
    "    N = int(score_num[0])\n",
    "    mean = sum(score_num[1:])/N\n",
    "    \n",
    "    count=0\n",
    "    for j in score_num[1:]:\n",
    "        if j > mean:\n",
    "            count+=1 # 해당하는 학생 수 바로 세기\n",
    "            \n",
    "    percentage = count/N*100\n",
    "    print(f'{percentage:.3f}%') # 소수점 3자리까지 나타내기"
   ]
  }
 ],
 "metadata": {
  "kernelspec": {
   "display_name": "Python 3",
   "language": "python",
   "name": "python3"
  },
  "language_info": {
   "codemirror_mode": {
    "name": "ipython",
    "version": 3
   },
   "file_extension": ".py",
   "mimetype": "text/x-python",
   "name": "python",
   "nbconvert_exporter": "python",
   "pygments_lexer": "ipython3",
   "version": "3.7.4"
  }
 },
 "nbformat": 4,
 "nbformat_minor": 2
}
