{
 "cells": [
  {
   "cell_type": "markdown",
   "metadata": {},
   "source": [
    "# 단계별 문제풀이"
   ]
  },
  {
   "cell_type": "markdown",
   "metadata": {},
   "source": [
    "### 5단계 1차원 배열"
   ]
  },
  {
   "cell_type": "code",
   "execution_count": 10,
   "metadata": {},
   "outputs": [
    {
     "name": "stdout",
     "output_type": "stream",
     "text": [
      "5\n",
      "20 10 35 30 7\n",
      "7 35\n"
     ]
    }
   ],
   "source": [
    "#10818\n",
    "N = int(input())\n",
    "array = input().split()\n",
    "num_list = []\n",
    "\n",
    "for i in range(N):\n",
    "    num = int(array[i])\n",
    "    num_list.append(num)\n",
    "    \n",
    "print(min(num_list),max(num_list))"
   ]
  },
  {
   "cell_type": "code",
   "execution_count": 16,
   "metadata": {},
   "outputs": [
    {
     "name": "stdout",
     "output_type": "stream",
     "text": [
      "3\n",
      "29\n",
      "38\n",
      "12\n",
      "57\n",
      "74\n",
      "40\n",
      "85\n",
      "61\n",
      "85\n",
      "8\n"
     ]
    }
   ],
   "source": [
    "#2562 numpy ver. -> 정답 인정X\n",
    "import sys\n",
    "import numpy as np\n",
    "\n",
    "num_list = []\n",
    "\n",
    "for i in range(9):\n",
    "    a = int(sys.stdin.readline())\n",
    "    num_list.append(a)\n",
    "    \n",
    "print(max(num_list))\n",
    "print(np.argmax(num_list,axis=-1)+1)"
   ]
  },
  {
   "cell_type": "code",
   "execution_count": 19,
   "metadata": {},
   "outputs": [
    {
     "name": "stdout",
     "output_type": "stream",
     "text": [
      "3\n",
      "29\n",
      "38\n",
      "12\n",
      "57\n",
      "74\n",
      "40\n",
      "85\n",
      "61\n",
      "85\n",
      "8\n"
     ]
    }
   ],
   "source": [
    "#2562 정답 인정 ver.(without numpy)\n",
    "import sys\n",
    "num_list = []\n",
    "\n",
    "for i in range(9):\n",
    "    a = int(sys.stdin.readline())\n",
    "    num_list.append(a)\n",
    "    \n",
    "print(max(num_list))\n",
    "for i in range(9):\n",
    "    if num_list[i] == max(num_list):\n",
    "        print(i+1)"
   ]
  }
 ],
 "metadata": {
  "kernelspec": {
   "display_name": "Python 3",
   "language": "python",
   "name": "python3"
  },
  "language_info": {
   "codemirror_mode": {
    "name": "ipython",
    "version": 3
   },
   "file_extension": ".py",
   "mimetype": "text/x-python",
   "name": "python",
   "nbconvert_exporter": "python",
   "pygments_lexer": "ipython3",
   "version": "3.7.4"
  }
 },
 "nbformat": 4,
 "nbformat_minor": 2
}
