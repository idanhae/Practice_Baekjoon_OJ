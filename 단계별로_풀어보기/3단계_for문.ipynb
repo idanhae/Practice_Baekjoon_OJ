<<<<<<< HEAD
{
 "cells": [
  {
   "cell_type": "markdown",
   "metadata": {},
   "source": [
    "# 단계별 문제풀이"
   ]
  },
  {
   "cell_type": "markdown",
   "metadata": {},
   "source": [
    "## 3단계 for문"
   ]
  },
  {
   "cell_type": "code",
   "execution_count": 31,
   "metadata": {},
   "outputs": [
    {
     "name": "stdout",
     "output_type": "stream",
     "text": [
      "2\n",
      "2 * 1 = 2\n",
      "2 * 2 = 4\n",
      "2 * 3 = 6\n",
      "2 * 4 = 8\n",
      "2 * 5 = 10\n",
      "2 * 6 = 12\n",
      "2 * 7 = 14\n",
      "2 * 8 = 16\n",
      "2 * 9 = 18\n"
     ]
    }
   ],
   "source": [
    "#2739 구구단\n",
    "N = int(input())\n",
    "for i in range(1,10):\n",
    "    print('{} * {} = {}'.format(N,i,N*i))\n",
    "    i+=1"
   ]
  },
  {
   "cell_type": "code",
   "execution_count": 32,
   "metadata": {},
   "outputs": [
    {
     "name": "stdout",
     "output_type": "stream",
     "text": [
      "3\n",
      "1 2\n",
      "3\n",
      "1 2\n",
      "3\n",
      "1 2\n",
      "3\n"
     ]
    }
   ],
   "source": [
    "#10950 이게 맞구낭,,, 매 회차마다 합 출력\n",
    "T = int(input())\n",
    "for i in range(T):\n",
    "    A,B = input().split(' ')\n",
    "    a = int(A)\n",
    "    b = int(B)\n",
    "    print(a+b)"
   ]
  },
  {
   "cell_type": "code",
   "execution_count": 33,
   "metadata": {
    "scrolled": true
   },
   "outputs": [
    {
     "name": "stdout",
     "output_type": "stream",
     "text": [
      "1\n",
      "1\n"
     ]
    }
   ],
   "source": [
    "#8393 합은 최종 한번만 출력\n",
    "n = int(input())\n",
    "j = 0\n",
    "for i in range(n):\n",
    "    j = j+i+1 #범위는 항상 0부터 시작인거 잊지말기!!\n",
    "    i+=1\n",
    "print(j)    "
   ]
  },
  {
   "cell_type": "code",
   "execution_count": null,
   "metadata": {},
   "outputs": [],
   "source": [
    "#15552 참고사항\n",
    "'''\n",
    "입출력 방식이 느리면 여러 줄을 입력받거나 출력할 때 시간초과가 발생한다.\n",
    "\n",
    "Python을 사용하고 있다면, 반복문으로 여러 줄을 입력 받을 때는 반드시 sys.stdin.readline()을 사용해야 시간초과가 발생하지 않는다. \n",
    "단, 이때는 맨 끝의 개행문자까지 같이 입력받기 때문에 문자열을 저장하고 싶을 경우 .rstrip()을 추가로 해 주는 것이 좋다.\n",
    "(맨 첫줄 Test case를 입력받을 때는 input()을 사용해도 무방하다.)\n",
    "\n",
    "또한 입력과 출력 스트림은 별개이므로, 테스트케이스를 전부 입력받아서 저장한 뒤 전부 출력할 필요는 없다. 테스트케이스를 하나 받은 뒤 하나 출력해도 된다.\n",
    "'''"
   ]
  },
  {
   "cell_type": "code",
   "execution_count": 38,
   "metadata": {
    "scrolled": true
   },
   "outputs": [
    {
     "name": "stdout",
     "output_type": "stream",
     "text": [
      "https://velog.io/@ecvheo1/%EC%9E%85%EB%A0%A5-%EB%B0%9B%EB%8A%94-%EB%B0%A9%EB%B2%95-sys.stdin.readline\n"
     ]
    }
   ],
   "source": [
    "# sys.stdin.readline(), map() 참고\n",
    "print('https://velog.io/@ecvheo1/%EC%9E%85%EB%A0%A5-%EB%B0%9B%EB%8A%94-%EB%B0%A9%EB%B2%95-sys.stdin.readline')"
   ]
  },
  {
   "cell_type": "code",
   "execution_count": null,
   "metadata": {},
   "outputs": [],
   "source": [
    "#15552\n",
    "import sys\n",
    "T = int(input())\n",
    "\n",
    "for i in range(T):\n",
    "    A,B = map(int,sys.stdin.readline().split()) # 앞에 적용할 함수, 뒤에 대상 데이터\n",
    "    print(A+B)"
   ]
  },
  {
   "cell_type": "code",
   "execution_count": 1,
   "metadata": {},
   "outputs": [
    {
     "name": "stdout",
     "output_type": "stream",
     "text": [
      "5\n",
      "1\n",
      "2\n",
      "3\n",
      "4\n",
      "5\n"
     ]
    }
   ],
   "source": [
    "#2741\n",
    "A = int(input())\n",
    "\n",
    "for i in range(A):\n",
    "  print(i+1)"
   ]
  },
  {
   "cell_type": "code",
   "execution_count": null,
   "metadata": {},
   "outputs": [],
   "source": [
    "#11021\n",
    "import sys\n",
    "T = int(input())\n",
    "\n",
    "for i in range(T):\n",
    "    A,B = map(int,sys.stdin.readline().split())\n",
    "    print(\"Case #{}: {}\".format(i+1, A+B)) #format을 쓸거면 다 써야 하는구나..."
   ]
  },
  {
   "cell_type": "code",
   "execution_count": null,
   "metadata": {},
   "outputs": [],
   "source": [
    "#11022\n",
    "import sys\n",
    "T = int(input())\n",
    "\n",
    "for i in range(T):\n",
    "    A,B = map(int,sys.stdin.readline().split())\n",
    "    print(\"Case #{}: {} + {} = {}\".format(i+1,A,B,A+B)) # case 번호 빼먹지 말것!, i는 0부터 시작하는거 잊지 말기!!!"
   ]
  },
  {
   "cell_type": "code",
   "execution_count": 2,
   "metadata": {},
   "outputs": [
    {
     "name": "stdout",
     "output_type": "stream",
     "text": [
      "5\n",
      "*\n",
      "**\n",
      "***\n",
      "****\n",
      "*****\n"
     ]
    }
   ],
   "source": [
    "#2438\n",
    "T = int(input())\n",
    "\n",
    "for i in range(T):\n",
    "    print('*'*(i+1)) # 문자열을 여러개 찍고 싶으면 print 안의 문자열에 원하는 횟수 곱해주기"
   ]
  },
  {
   "cell_type": "code",
   "execution_count": 3,
   "metadata": {},
   "outputs": [
    {
     "name": "stdout",
     "output_type": "stream",
     "text": [
      "5\n",
      "     *\n",
      "    **\n",
      "   ***\n",
      "  ****\n",
      " *****\n"
     ]
    }
   ],
   "source": [
    "#2439\n",
    "T = int(input())\n",
    "\n",
    "for i in range(T):\n",
    "    print(' '*(T-i-1)+'*'*(i+1)) # ,로 연결하면 한 칸 띄워져서 출력됨 주의 +로 연결해야 붙어서 나온다"
   ]
  },
  {
   "cell_type": "code",
   "execution_count": null,
   "metadata": {},
   "outputs": [],
   "source": [
    "#10871\n",
    "import sys\n",
    "N,X = map(int,sys.stdin.readline().split())\n",
    "A = list(map(int,sys.stdin.readline().split()))\n",
    "\n",
    "for i in A:\n",
    "    if i < X:\n",
    "        print(i, end=\" \")\n",
    "\n",
    "# N 활용 ver.\n",
    "import sys\n",
    "N,X = map(int,sys.stdin.readline().split())\n",
    "A = list(map(int,sys.stdin.readline().split()))\n",
    "\n",
    "for i in range(N):\n",
    "    if A[i]< X:\n",
    "        print(A[i], end=\" \") # 이렇게 인덱스로 읽는 거랑 리스트 원소를 읽는 거랑 유의미한 속도 차이가 있을까?"
   ]
  }
 ],
 "metadata": {
  "kernelspec": {
   "display_name": "Python 3",
   "language": "python",
   "name": "python3"
  },
  "language_info": {
   "codemirror_mode": {
    "name": "ipython",
    "version": 3
   },
   "file_extension": ".py",
   "mimetype": "text/x-python",
   "name": "python",
   "nbconvert_exporter": "python",
   "pygments_lexer": "ipython3",
   "version": "3.7.4"
  }
 },
 "nbformat": 4,
 "nbformat_minor": 2
}
=======
{"cells":[{"cell_type":"markdown","metadata":{"id":"YYE_5_dMubsX"},"source":["# 단계별 문제풀이"]},{"cell_type":"markdown","metadata":{"id":"Z9pbMVgMubsg"},"source":["## 3단계 for문"]},{"cell_type":"code","execution_count":null,"metadata":{"id":"d7vD3lFEubsi","outputId":"6e2fcdbf-7d02-42eb-f193-4e190eb3e872"},"outputs":[{"name":"stdout","output_type":"stream","text":["2\n","2 * 1 = 2\n","2 * 2 = 4\n","2 * 3 = 6\n","2 * 4 = 8\n","2 * 5 = 10\n","2 * 6 = 12\n","2 * 7 = 14\n","2 * 8 = 16\n","2 * 9 = 18\n"]}],"source":["#2739 구구단\n","N = int(input())\n","for i in range(1,10):\n","    print('{} * {} = {}'.format(N,i,N*i))\n","    i+=1"]},{"cell_type":"code","execution_count":null,"metadata":{"id":"4nZe1DX_ubso","outputId":"1f3c80fd-656c-41c8-c04c-b9eefb1aa232"},"outputs":[{"name":"stdout","output_type":"stream","text":["3\n","1 2\n","3\n","1 2\n","3\n","1 2\n","3\n"]}],"source":["#10950 이게 맞구낭,,, 매 회차마다 합 출력\n","T = int(input())\n","for i in range(T):\n","    A,B = input().split(' ')\n","    a = int(A)\n","    b = int(B)\n","    print(a+b)"]},{"cell_type":"code","execution_count":null,"metadata":{"scrolled":true,"id":"NxPPLNTbubsr","outputId":"c4307f19-f316-4e00-bc60-7806bff9d296"},"outputs":[{"name":"stdout","output_type":"stream","text":["1\n","1\n"]}],"source":["#8393 합은 최종 한번만 출력\n","n = int(input())\n","j = 0\n","for i in range(n):\n","    j = j+i+1 #범위는 항상 0부터 시작인거 잊지말기!!\n","    i+=1\n","print(j)    "]},{"cell_type":"code","execution_count":null,"metadata":{"id":"IPe1oNg-ubst"},"outputs":[],"source":["#15552 참고사항\n","'''\n","입출력 방식이 느리면 여러 줄을 입력받거나 출력할 때 시간초과가 발생한다.\n","\n","Python을 사용하고 있다면, 반복문으로 여러 줄을 입력 받을 때는 반드시 sys.stdin.readline()을 사용해야 시간초과가 발생하지 않는다. \n","단, 이때는 맨 끝의 개행문자까지 같이 입력받기 때문에 문자열을 저장하고 싶을 경우 .rstrip()을 추가로 해 주는 것이 좋다.\n","(맨 첫줄 Test case를 입력받을 때는 input()을 사용해도 무방하다.)\n","\n","또한 입력과 출력 스트림은 별개이므로, 테스트케이스를 전부 입력받아서 저장한 뒤 전부 출력할 필요는 없다. 테스트케이스를 하나 받은 뒤 하나 출력해도 된다.\n","'''"]},{"cell_type":"code","execution_count":null,"metadata":{"scrolled":true,"id":"WjUYXfIIubsu","outputId":"ee1baf02-5a67-47ea-ba9a-fb1774a78254"},"outputs":[{"name":"stdout","output_type":"stream","text":["https://velog.io/@ecvheo1/%EC%9E%85%EB%A0%A5-%EB%B0%9B%EB%8A%94-%EB%B0%A9%EB%B2%95-sys.stdin.readline\n"]}],"source":["# sys.stdin.readline(), map() 참고\n","print('https://velog.io/@ecvheo1/%EC%9E%85%EB%A0%A5-%EB%B0%9B%EB%8A%94-%EB%B0%A9%EB%B2%95-sys.stdin.readline')"]},{"cell_type":"code","execution_count":null,"metadata":{"id":"qxR95UGnubsw"},"outputs":[],"source":["#15552\n","import sys\n","T = int(input())\n","\n","for i in range(T):\n","    A,B = map(int,sys.stdin.readline().split()) # 앞에 적용할 함수, 뒤에 대상 데이터\n","    print(A+B)"]},{"cell_type":"code","execution_count":null,"metadata":{"id":"X22Mu3B1ubsz","outputId":"522e3a8b-1560-47a9-9488-8db0c3ee9571"},"outputs":[{"name":"stdout","output_type":"stream","text":["5\n","1\n","2\n","3\n","4\n","5\n"]}],"source":["#2741\n","A = int(input())\n","\n","for i in range(A):\n","  print(i+1)"]},{"cell_type":"code","execution_count":4,"metadata":{"colab":{"base_uri":"https://localhost:8080/"},"id":"_FSdlUO7ubs1","executionInfo":{"status":"ok","timestamp":1643122525058,"user_tz":-540,"elapsed":1705,"user":{"displayName":"종현문","photoUrl":"https://lh3.googleusercontent.com/a/default-user=s64","userId":"02945788024106329717"}},"outputId":"31d587d2-fa17-4c75-b732-db1485deea81"},"outputs":[{"output_type":"stream","name":"stdout","text":["5\n","5\n","4\n","3\n","2\n","1\n"]}],"source":["#2742 거꾸로 출력하기!!\n","A = int(input())\n","\n","for i in range(A,0,-1): # A부터 1까지(0 포함X) -1씩 감소하는 수열\n","  print(i)"]}],"metadata":{"kernelspec":{"display_name":"Python 3","language":"python","name":"python3"},"language_info":{"codemirror_mode":{"name":"ipython","version":3},"file_extension":".py","mimetype":"text/x-python","name":"python","nbconvert_exporter":"python","pygments_lexer":"ipython3","version":"3.7.4"},"colab":{"name":"3단계_for문.ipynb","provenance":[],"collapsed_sections":[]}},"nbformat":4,"nbformat_minor":0}
>>>>>>> 225b355b4e473806060eb93aca22decf3c30e3ff
