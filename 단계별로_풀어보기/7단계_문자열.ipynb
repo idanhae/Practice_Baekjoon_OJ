{
 "cells": [
  {
   "cell_type": "markdown",
   "metadata": {},
   "source": [
    "# 단계별 문제풀이"
   ]
  },
  {
   "cell_type": "markdown",
   "metadata": {},
   "source": [
    "### 7단계 문자열"
   ]
  },
  {
   "cell_type": "code",
   "execution_count": 1,
   "metadata": {
    "scrolled": true
   },
   "outputs": [
    {
     "name": "stdout",
     "output_type": "stream",
     "text": [
      "a\n",
      "97\n"
     ]
    }
   ],
   "source": [
    "#11654 아스키코드\n",
    "T = input()\n",
    "print(ord(T))\n",
    "\n",
    "# ord(): 해당 문자열의 아스키코드 반환\n",
    "# chr(): 해당 아스키코드가 의미하는 문자열 반환"
   ]
  },
  {
   "cell_type": "code",
   "execution_count": 2,
   "metadata": {},
   "outputs": [
    {
     "name": "stdout",
     "output_type": "stream",
     "text": [
      "a\n",
      "97\n"
     ]
    }
   ],
   "source": [
    "#11654 아스키코드 함수 이용X ver.\n",
    "T = input()\n",
    "list1 = ['A','B','C','D','E','F','G','H','I','J','K','L','M','N','O','P','Q','R','S','T','U','V','W','X','Y','Z']\n",
    "list2 = ['a','b','c','d','e','f','g','h','i','j','k','l','m','n','o','p','q','r','s','t','u','v','w','x','y','z']\n",
    "list3 = ['0','1','2','3','4','5','6','7','8','9']\n",
    "\n",
    "if T in list1:\n",
    "    print(list1.index(T)+65) # list.index(): 해당 요소의 인덱스 반환\n",
    "elif T in list2:\n",
    "    print(list2.index(T)+97)\n",
    "elif T in list3:\n",
    "    print(list3.index(T)+48)"
   ]
  },
  {
   "cell_type": "code",
   "execution_count": 3,
   "metadata": {},
   "outputs": [
    {
     "name": "stdout",
     "output_type": "stream",
     "text": [
      "5\n",
      "12345\n",
      "15\n"
     ]
    }
   ],
   "source": [
    "#11720\n",
    "T = int(input())\n",
    "N = input()\n",
    "num = 0\n",
    "\n",
    "for i in range(T):\n",
    "    num += int(N[i])\n",
    "\n",
    "print(num)"
   ]
  },
  {
   "cell_type": "code",
   "execution_count": 5,
   "metadata": {},
   "outputs": [
    {
     "name": "stdout",
     "output_type": "stream",
     "text": [
      "baekjoon\n",
      "1 0 -1 -1 2 -1 -1 -1 -1 4 3 -1 -1 7 5 -1 -1 -1 -1 -1 -1 -1 -1 -1 -1 -1 "
     ]
    }
   ],
   "source": [
    "#10809\n",
    "S = input()\n",
    "\n",
    "for i in range(97,123): # 아스키코드 사용 - 소문자 알파벳 범위=> range(97,123)\n",
    "    if chr(i) in S:\n",
    "        print(S.index(chr(i)), end=\" \") # str도 index method 있음 여러번 나올 경우 제일 앞선 인덱스를 반환함\n",
    "    else:\n",
    "        print(-1, end = \" \") # end option 사용시 뒤의 출력값과 이어서 출력함(줄바꿈을 하지 않음)\n",
    "# 근데 sep 써도 정답처리 됨.. print하면 다른줄에 나오는데,,,"
   ]
  },
  {
   "cell_type": "code",
   "execution_count": 11,
   "metadata": {},
   "outputs": [
    {
     "name": "stdout",
     "output_type": "stream",
     "text": [
      "2\n",
      "3 ABC\n",
      "AAABBBCCC\n",
      "5 /HTP\n",
      "/////HHHHHTTTTTPPPPP\n"
     ]
    }
   ],
   "source": [
    "#2675\n",
    "T = int(input())\n",
    "\n",
    "for i in range(T):\n",
    "    R,S = input().split()\n",
    "    R = int(R)\n",
    "    new_list = []\n",
    "    for j in S:\n",
    "        j *= R\n",
    "        new_list.append(j)\n",
    "    new_S = ''.join(new_list)\n",
    "    print(new_S)\n",
    "    \n",
    "# .split() : 문자열 -> 리스트로\n",
    "# .join() : 리스트 -> 문자열로 ex) ':'.join(['11','22','33']) => '11:22:33' "
   ]
  },
  {
   "cell_type": "code",
   "execution_count": 47,
   "metadata": {},
   "outputs": [
    {
     "name": "stdout",
     "output_type": "stream",
     "text": [
      "mississipi\n",
      "?\n"
     ]
    }
   ],
   "source": [
    "#1157 시간 초과ver.\n",
    "word = input().upper() # 대문자로 출력해야 함\n",
    "cnt = []\n",
    "unique_word = list(set(word)) # 단어 내 문자의 중복을 없애서 시간 단축\n",
    "\n",
    "for i in word:\n",
    "    cnt.append(word.count(i))\n",
    "if cnt.count(max(cnt)) > 1:\n",
    "    print('?')\n",
    "else:\n",
    "    idx = cnt.index(max(cnt))\n",
    "    print(unique_word[idx])"
   ]
  },
  {
   "cell_type": "code",
   "execution_count": 1,
   "metadata": {},
   "outputs": [
    {
     "name": "stdout",
     "output_type": "stream",
     "text": [
      "mississipi\n",
      "?\n"
     ]
    }
   ],
   "source": [
    "#1157 정답 인정ver.\n",
    "word = input().upper()\n",
    "unique = list(set(word)) # 단어 내 문자의 중복을 없애서 시간 단축\n",
    "cnt = [word.count(i) for i in unique] # list comprehension 이용하는게 더 빠름!\n",
    "\n",
    "if cnt.count(max(cnt)) > 1:\n",
    "    print('?')\n",
    "else:\n",
    "    idx = cnt.index(max(cnt))\n",
    "    print(unique[idx])\n",
    "    \n",
    "# 반복문 안에 .메소드가 들어가면 수행속도가 느려짐\n",
    "# 메소드를 아예 먼저 선언하거나 리스트 컴프리헨션을 사용하면 수행속도를 단축시킬 수 있음\n",
    "# 메소드 미리 선언하기 예시\n",
    "# a.append(x) \n",
    "# -> ap = a.append\n",
    "# ap(x) 이런식으로 쓰면 됨"
   ]
  },
  {
   "cell_type": "code",
   "execution_count": 5,
   "metadata": {},
   "outputs": [
    {
     "name": "stdout",
     "output_type": "stream",
     "text": [
      "The Curious Case of Benjamin Button\n",
      "6\n"
     ]
    }
   ],
   "source": [
    "#1152\n",
    "A = input().split()\n",
    "print(len(A))"
   ]
  },
  {
   "cell_type": "code",
   "execution_count": 10,
   "metadata": {},
   "outputs": [
    {
     "name": "stdout",
     "output_type": "stream",
     "text": [
      "734 893\n",
      "437\n"
     ]
    }
   ],
   "source": [
    "#2908\n",
    "A, B = input().split()\n",
    "\n",
    "rA = int(A[2]+A[1]+A[0])\n",
    "rB = int(B[2]+B[1]+B[0])\n",
    "\n",
    "if rA>rB:\n",
    "    print(rA)\n",
    "else:\n",
    "    print(rB)"
   ]
  },
  {
   "cell_type": "code",
   "execution_count": 3,
   "metadata": {},
   "outputs": [
    {
     "name": "stdout",
     "output_type": "stream",
     "text": [
      "UNUCIC\n",
      "36\n"
     ]
    }
   ],
   "source": [
    "#5622 다이얼\n",
    "N = input()\n",
    "sec = []\n",
    "\n",
    "for i in N:\n",
    "    s = 1\n",
    "    if ord(i) < 68:\n",
    "        s+=2\n",
    "    elif 68 <= ord(i) < 71:\n",
    "        s+=3\n",
    "    elif 71<= ord(i) < 74:\n",
    "        s+=4\n",
    "    elif 74<= ord(i) < 77:\n",
    "        s+=5\n",
    "    elif 77<= ord(i) < 80:\n",
    "        s+=6\n",
    "    elif 80<= ord(i) < 84:\n",
    "        s+=7\n",
    "    elif 84<= ord(i) < 87:\n",
    "        s+=8\n",
    "    else:\n",
    "        s+=9\n",
    "    sec.append(s)\n",
    "print(sum(sec))"
   ]
  },
  {
   "cell_type": "code",
   "execution_count": null,
   "metadata": {},
   "outputs": [],
   "source": []
  }
 ],
 "metadata": {
  "kernelspec": {
   "display_name": "Python 3",
   "language": "python",
   "name": "python3"
  },
  "language_info": {
   "codemirror_mode": {
    "name": "ipython",
    "version": 3
   },
   "file_extension": ".py",
   "mimetype": "text/x-python",
   "name": "python",
   "nbconvert_exporter": "python",
   "pygments_lexer": "ipython3",
   "version": "3.7.4"
  }
 },
 "nbformat": 4,
 "nbformat_minor": 2
}
