{
 "cells": [
  {
   "cell_type": "markdown",
   "metadata": {},
   "source": [
    "# 단계별 문제풀이"
   ]
  },
  {
   "cell_type": "markdown",
   "metadata": {},
   "source": [
    "### 7단계 문자열"
   ]
  },
  {
   "cell_type": "code",
   "execution_count": 1,
   "metadata": {
    "scrolled": true
   },
   "outputs": [
    {
     "name": "stdout",
     "output_type": "stream",
     "text": [
      "a\n",
      "97\n"
     ]
    }
   ],
   "source": [
    "#11654 아스키코드\n",
    "T = input()\n",
    "print(ord(T))\n",
    "\n",
    "# ord(): 해당 문자열의 아스키코드 반환\n",
    "# chr(): 해당 아스키코드가 의미하는 문자열 반환"
   ]
  },
  {
   "cell_type": "code",
   "execution_count": 2,
   "metadata": {},
   "outputs": [
    {
     "name": "stdout",
     "output_type": "stream",
     "text": [
      "a\n",
      "97\n"
     ]
    }
   ],
   "source": [
    "#11654 아스키코드 함수 이용X ver.\n",
    "T = input()\n",
    "list1 = ['A','B','C','D','E','F','G','H','I','J','K','L','M','N','O','P','Q','R','S','T','U','V','W','X','Y','Z']\n",
    "list2 = ['a','b','c','d','e','f','g','h','i','j','k','l','m','n','o','p','q','r','s','t','u','v','w','x','y','z']\n",
    "list3 = ['0','1','2','3','4','5','6','7','8','9']\n",
    "\n",
    "if T in list1:\n",
    "    print(list1.index(T)+65) # list.index(): 해당 요소의 인덱스 반환\n",
    "elif T in list2:\n",
    "    print(list2.index(T)+97)\n",
    "elif T in list3:\n",
    "    print(list3.index(T)+48)"
   ]
  },
  {
   "cell_type": "code",
   "execution_count": 3,
   "metadata": {},
   "outputs": [
    {
     "name": "stdout",
     "output_type": "stream",
     "text": [
      "5\n",
      "12345\n",
      "15\n"
     ]
    }
   ],
   "source": [
    "#11720\n",
    "T = int(input())\n",
    "N = input()\n",
    "num = 0\n",
    "\n",
    "for i in range(T):\n",
    "    num += int(N[i])\n",
    "\n",
    "print(num)"
   ]
  },
  {
   "cell_type": "code",
   "execution_count": 5,
   "metadata": {},
   "outputs": [
    {
     "name": "stdout",
     "output_type": "stream",
     "text": [
      "baekjoon\n",
      "1 0 -1 -1 2 -1 -1 -1 -1 4 3 -1 -1 7 5 -1 -1 -1 -1 -1 -1 -1 -1 -1 -1 -1 "
     ]
    }
   ],
   "source": [
    "#10809\n",
    "S = input()\n",
    "\n",
    "for i in range(97,123): # 아스키코드 사용 - 소문자 알파벳 범위=> range(97,123)\n",
    "    if chr(i) in S:\n",
    "        print(S.index(chr(i)), end=\" \") # str도 index method 있음 여러번 나올 경우 제일 앞선 인덱스를 반환함\n",
    "    else:\n",
    "        print(-1, end = \" \") # end option 사용시 뒤의 출력값과 이어서 출력함(줄바꿈을 하지 않음)\n",
    "# 근데 sep 써도 정답처리 됨.. print하면 다른줄에 나오는데,,,"
   ]
  },
  {
   "cell_type": "code",
   "execution_count": 47,
   "metadata": {},
   "outputs": [
    {
     "name": "stdout",
     "output_type": "stream",
     "text": [
      "mississipi\n",
      "?\n"
     ]
    }
   ],
   "source": [
    "#1157 시간 초과ver.\n",
    "word = input().upper() # 대문자로 출력해야 함\n",
    "cnt = []\n",
    "unique_word = list(set(word))\n",
    "\n",
    "for i in word:\n",
    "    cnt.append(word.count(i))\n",
    "if cnt.count(max(cnt)) > 1:\n",
    "    print('?')\n",
    "else:\n",
    "    idx = cnt.index(max(cnt))\n",
    "    print(unique_word[idx])"
   ]
  },
  {
   "cell_type": "code",
   "execution_count": 1,
   "metadata": {},
   "outputs": [
    {
     "name": "stdout",
     "output_type": "stream",
     "text": [
      "mississipi\n",
      "?\n"
     ]
    }
   ],
   "source": [
    "#1157 정답 인정ver.\n",
    "word = input().upper()\n",
    "unique = list(set(word)) # 단어 내 문자의 중복을 없애서 시간 단축\n",
    "cnt = [word.count(i) for i in unique]\n",
    "\n",
    "if cnt.count(max(cnt)) > 1:\n",
    "    print('?')\n",
    "else:\n",
    "    idx = cnt.index(max(cnt))\n",
    "    print(unique[idx])"
   ]
  },
  {
   "cell_type": "code",
   "execution_count": null,
   "metadata": {},
   "outputs": [],
   "source": []
  }
 ],
 "metadata": {
  "kernelspec": {
   "display_name": "Python 3",
   "language": "python",
   "name": "python3"
  },
  "language_info": {
   "codemirror_mode": {
    "name": "ipython",
    "version": 3
   },
   "file_extension": ".py",
   "mimetype": "text/x-python",
   "name": "python",
   "nbconvert_exporter": "python",
   "pygments_lexer": "ipython3",
   "version": "3.7.4"
  }
 },
 "nbformat": 4,
 "nbformat_minor": 2
}
